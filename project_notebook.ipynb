{
 "cells": [
  {
   "cell_type": "code",
   "execution_count": 1,
   "metadata": {},
   "outputs": [
    {
     "name": "stderr",
     "output_type": "stream",
     "text": [
      "/anaconda3/lib/python3.7/site-packages/sklearn/ensemble/weight_boosting.py:29: DeprecationWarning: numpy.core.umath_tests is an internal NumPy module and should not be imported. It will be removed in a future NumPy release.\n",
      "  from numpy.core.umath_tests import inner1d\n"
     ]
    }
   ],
   "source": [
    "import models \n",
    "import sklearn \n",
    "import os\n",
    "import matplotlib.pyplot as plt \n",
    "import feature_extraction\n",
    "from sklearn.model_selection import cross_val_score\n",
    "import numpy as np"
   ]
  },
  {
   "cell_type": "code",
   "execution_count": 2,
   "metadata": {},
   "outputs": [],
   "source": [
    "# fun fact exactly 20% of the samples are seizure data\n",
    "\n",
    "data, labels, name_list = feature_extraction.raw_data(two_cat = True)\n"
   ]
  },
  {
   "cell_type": "code",
   "execution_count": 3,
   "metadata": {},
   "outputs": [
    {
     "name": "stdout",
     "output_type": "stream",
     "text": [
      "Random Forest Accuracy: 0.9922608695652174\n",
      "Random Forest Cross Validation Score: 0.9678260869565216\n"
     ]
    }
   ],
   "source": [
    "rf = models.RandomForest()\n",
    "rf.train(data, labels)\n",
    "sc = rf.test(data, labels)\n",
    "\n",
    "cvsc = np.mean(cross_val_score(rf.clf, data, labels, cv=10))\n",
    "\n",
    "print('Random Forest Accuracy: ' + str(sc))\n",
    "print('Random Forest Cross Validation Score: ' + str(cvsc))\n",
    "\n"
   ]
  },
  {
   "cell_type": "code",
   "execution_count": null,
   "metadata": {},
   "outputs": [],
   "source": [
    "svm = models.SVM()\n",
    "svm.train(data, labels)\n",
    "svm_sc = svm.test(data,labels)\n",
    "\n",
    "svm_cvsc = np.mean(cross_val_score(svm.clf, data, labels, cv=10))\n",
    "\n",
    "print('SVM Accuracy: ' + str(svm_sc))\n",
    "print('SVM Cross Validation Score: ' + str(svm_cvsc))"
   ]
  },
  {
   "cell_type": "code",
   "execution_count": null,
   "metadata": {},
   "outputs": [],
   "source": []
  }
 ],
 "metadata": {
  "kernelspec": {
   "display_name": "Python 3",
   "language": "python",
   "name": "python3"
  },
  "language_info": {
   "codemirror_mode": {
    "name": "ipython",
    "version": 3
   },
   "file_extension": ".py",
   "mimetype": "text/x-python",
   "name": "python",
   "nbconvert_exporter": "python",
   "pygments_lexer": "ipython3",
   "version": "3.7.0"
  }
 },
 "nbformat": 4,
 "nbformat_minor": 2
}
